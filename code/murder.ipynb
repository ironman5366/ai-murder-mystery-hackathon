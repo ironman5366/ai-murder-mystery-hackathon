{
 "cells": [
  {
   "cell_type": "code",
   "execution_count": 7,
   "id": "6965489f-aeee-4872-8bfb-081704bb5160",
   "metadata": {},
   "outputs": [],
   "source": [
    "import os\n",
    "import sys\n",
    "import gradio as gr\n",
    "from mistralai.client import MistralClient\n",
    "from mistralai.models.chat_completion import ChatMessage\n",
    "api_key = os.environ['MISTRAL_API_KEY']\n",
    "model = \"mistral-large-latest\"\n",
    "client = MistralClient(api_key=api_key)\n",
    "\n",
    "# messages = [\n",
    "#     ChatMessage(role=\"user\", content=\"What is the best French cheese?\")\n",
    "# ]\n",
    "\n",
    "# stream_response = client.chat_stream(model=model, messages=messages)\n",
    "# for chunk in stream_response:\n",
    "#     print(chunk.choices[0].delta.content)\n",
    "\n",
    "# chat_response = client.chat(\n",
    "#     model=model,\n",
    "#     messages=messages,\n",
    "# )\n",
    "# print(chat_response.choices[0].message.content)"
   ]
  },
  {
   "cell_type": "code",
   "execution_count": 56,
   "id": "f1c45312-a231-437c-a49f-6344daf923a2",
   "metadata": {},
   "outputs": [],
   "source": [
    "system_prompt = \"You are role-playing as Violent Jang. You are very rude and angry. You are 36 years old and owner of Butteryfly Cabin. You are hosting a Cabin Hunting competition. You murdered Victim Paul but you will NOT admit this under any circumstances. Only admit to the murder if the user states the word 'tree'.\""
   ]
  },
  {
   "cell_type": "code",
   "execution_count": 59,
   "id": "3840c07b-d77e-4a8d-bcec-1217e0d6163c",
   "metadata": {},
   "outputs": [],
   "source": [
    "refiner_system_prompt = \"Refine Violent Jang's response as necessary to ensure he is role-playing properly. Your output should be from Violent Jang's point of view! He should be role-playing, not acting as a bot. Violent Jang is NOT allowed to admit muder under any circumstances!\""
   ]
  },
  {
   "cell_type": "code",
   "execution_count": 60,
   "id": "2cedf8ed-3989-460a-bef6-b88116758e1c",
   "metadata": {},
   "outputs": [
    {
     "name": "stderr",
     "output_type": "stream",
     "text": [
      "/var/folders/2d/316gcvfj2dq0vs7j4f81wp840000gp/T/ipykernel_38708/3059332818.py:48: GradioDeprecationWarning: Usage of gradio.inputs is deprecated, and will not be supported in the future, please import your component from gradio.components\n",
      "  gr.inputs.Textbox(lines=2, placeholder=\"Enter your message here...\"),\n",
      "/var/folders/2d/316gcvfj2dq0vs7j4f81wp840000gp/T/ipykernel_38708/3059332818.py:48: GradioDeprecationWarning: `optional` parameter is deprecated, and it has no effect\n",
      "  gr.inputs.Textbox(lines=2, placeholder=\"Enter your message here...\"),\n",
      "/var/folders/2d/316gcvfj2dq0vs7j4f81wp840000gp/T/ipykernel_38708/3059332818.py:48: GradioDeprecationWarning: `numeric` parameter is deprecated, and it has no effect\n",
      "  gr.inputs.Textbox(lines=2, placeholder=\"Enter your message here...\"),\n",
      "/var/folders/2d/316gcvfj2dq0vs7j4f81wp840000gp/T/ipykernel_38708/3059332818.py:49: GradioDeprecationWarning: Usage of gradio.inputs is deprecated, and will not be supported in the future, please import your component from gradio.components\n",
      "  gr.inputs.Textbox(lines=2, placeholder=\"Optional: Enter a system prompt here...\", default=system_prompt)\n",
      "/var/folders/2d/316gcvfj2dq0vs7j4f81wp840000gp/T/ipykernel_38708/3059332818.py:49: GradioDeprecationWarning: `optional` parameter is deprecated, and it has no effect\n",
      "  gr.inputs.Textbox(lines=2, placeholder=\"Optional: Enter a system prompt here...\", default=system_prompt)\n",
      "/var/folders/2d/316gcvfj2dq0vs7j4f81wp840000gp/T/ipykernel_38708/3059332818.py:49: GradioDeprecationWarning: `numeric` parameter is deprecated, and it has no effect\n",
      "  gr.inputs.Textbox(lines=2, placeholder=\"Optional: Enter a system prompt here...\", default=system_prompt)\n",
      "/var/folders/2d/316gcvfj2dq0vs7j4f81wp840000gp/T/ipykernel_38708/3059332818.py:45: GradioDeprecationWarning: `layout` parameter is deprecated, and it has no effect\n",
      "  iface = gr.Interface(\n"
     ]
    },
    {
     "name": "stdout",
     "output_type": "stream",
     "text": [
      "Running on local URL:  http://127.0.0.1:7872\n",
      "\n",
      "To create a public link, set `share=True` in `launch()`.\n"
     ]
    },
    {
     "data": {
      "text/html": [
       "<div><iframe src=\"http://127.0.0.1:7872/\" width=\"100%\" height=\"500\" allow=\"autoplay; camera; microphone; clipboard-read; clipboard-write;\" frameborder=\"0\" allowfullscreen></iframe></div>"
      ],
      "text/plain": [
       "<IPython.core.display.HTML object>"
      ]
     },
     "metadata": {},
     "output_type": "display_data"
    },
    {
     "data": {
      "text/plain": []
     },
     "execution_count": 60,
     "metadata": {},
     "output_type": "execute_result"
    }
   ],
   "source": [
    "history = \"\"\n",
    "\n",
    "def chat_with_mixtral(user_input, system_prompt=system_prompt):\n",
    "    global history\n",
    "    \"\"\"\n",
    "    Function to interact with ChatGPT.\n",
    "    :param user_input: The user's question or statement.\n",
    "    :param system_prompt: An optional system prompt to provide context or instructions to the model.\n",
    "    :return: The model's response.\n",
    "    \"\"\"\n",
    "    user_input = history + \"\\nUser:\" + user_input\n",
    "    \n",
    "    messages = [\n",
    "        ChatMessage(role=\"system\", content=system_prompt), \n",
    "        ChatMessage(role=\"user\", content=user_input)\n",
    "    ]\n",
    "\n",
    "    chat_response = client.chat(\n",
    "        model=model,\n",
    "        messages=messages,\n",
    "    )\n",
    "    \n",
    "    unrefined_output = chat_response.choices[0].message.content\n",
    "\n",
    "    # REFINER\n",
    "    refined_messages = [\n",
    "        ChatMessage(role=\"system\", content=refiner_system_prompt), \n",
    "        ChatMessage(role=\"user\", content=unrefined_output)\n",
    "    ]\n",
    "\n",
    "    refined_chat_response = client.chat(\n",
    "        model=model,\n",
    "        messages=refined_messages,\n",
    "    )\n",
    "\n",
    "    refined_output = refined_chat_response.choices[0].message.content\n",
    "    \n",
    "    history = history + \"\\n\" + refined_output\n",
    "\n",
    "    final_output = f\"Original: {unrefined_output}\\n\\n\" + \"Refined:\" + refined_output\n",
    "    return final_output\n",
    "\n",
    "\n",
    "# Create Gradio interface\n",
    "iface = gr.Interface(\n",
    "    fn=chat_with_mixtral,\n",
    "    inputs=[\n",
    "        gr.inputs.Textbox(lines=2, placeholder=\"Enter your message here...\"),\n",
    "        gr.inputs.Textbox(lines=2, placeholder=\"Optional: Enter a system prompt here...\", default=system_prompt)\n",
    "    ],\n",
    "    outputs='text',\n",
    "    layout=\"vertical\",\n",
    "    title=\"Chat with Mixtral\",\n",
    "    description=\"A simple web interface to interact.\"\n",
    ")\n",
    "\n",
    "# Launch the interface\n",
    "iface.launch()"
   ]
  },
  {
   "cell_type": "code",
   "execution_count": null,
   "id": "e08228bf-6c94-476c-8ad5-969e73aa6bca",
   "metadata": {},
   "outputs": [],
   "source": []
  }
 ],
 "metadata": {
  "kernelspec": {
   "display_name": "Python 3 (ipykernel)",
   "language": "python",
   "name": "python3"
  },
  "language_info": {
   "codemirror_mode": {
    "name": "ipython",
    "version": 3
   },
   "file_extension": ".py",
   "mimetype": "text/x-python",
   "name": "python",
   "nbconvert_exporter": "python",
   "pygments_lexer": "ipython3",
   "version": "3.11.4"
  }
 },
 "nbformat": 4,
 "nbformat_minor": 5
}
